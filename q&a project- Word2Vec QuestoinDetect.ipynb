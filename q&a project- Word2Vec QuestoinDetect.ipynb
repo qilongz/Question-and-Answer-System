{
 "cells": [
  {
   "cell_type": "markdown",
   "metadata": {
    "collapsed": true
   },
   "source": [
    "# Enhancement"
   ]
  },
  {
   "cell_type": "markdown",
   "metadata": {},
   "source": [
    "## Sentence Retrival"
   ]
  },
  {
   "cell_type": "markdown",
   "metadata": {},
   "source": [
    "#### Preprocessing "
   ]
  },
  {
   "cell_type": "code",
   "execution_count": 1,
   "metadata": {
    "collapsed": false
   },
   "outputs": [],
   "source": [
    "import math,numpy,json,re,nltk,csv,time,re,os.path,sys,ast,itertools,string\n",
    "from operator import add\n",
    "from math import sqrt\n",
    "from numpy import multiply\n",
    "from nltk import FreqDist, DictionaryProbDist\n",
    "from nltk.tokenize import word_tokenize,RegexpTokenizer\n",
    "from nltk.stem import PorterStemmer\n",
    "from nltk.corpus import wordnet as wn\n",
    "from nltk.stem.wordnet import WordNetLemmatizer as WNL\n",
    "from nltk.tag import StanfordNERTagger\n",
    "from nltk.parse.stanford import StanfordDependencyParser\n",
    "from sklearn.feature_extraction.text import TfidfVectorizer\n",
    "from sklearn.feature_extraction import DictVectorizer\n",
    "from sklearn import metrics\n",
    "from collections import defaultdict,OrderedDict\n",
    "from nltk import RegexpParser\n",
    "\n",
    "\n",
    "stopwords = set(nltk.corpus.stopwords.words('english')) # wrap in a set() (see below)"
   ]
  },
  {
   "cell_type": "markdown",
   "metadata": {},
   "source": [
    "#### Load data from json file"
   ]
  },
  {
   "cell_type": "code",
   "execution_count": 2,
   "metadata": {
    "collapsed": false
   },
   "outputs": [
    {
     "name": "stdout",
     "output_type": "stream",
     "text": [
      "Import Successful \n",
      "There are totally 40 documents in this dev dataset\n",
      "There are totally 42 documents in this test dataset\n",
      "There are totally 360 documents in this  train dataset\n"
     ]
    }
   ],
   "source": [
    "t0 = time.time()\n",
    "\n",
    "test_path = os.path.abspath('data/QA_test.json')\n",
    "dev_path = os.path.abspath('data/QA_dev.json')\n",
    "train_path = os.path.abspath('data/QA_train.json')\n",
    "\n",
    "def load_jsonfile(filepath):\n",
    "    dataset = []\n",
    "    with open(filepath) as jsonfile:\n",
    "        for line in jsonfile:\n",
    "            dataset += (json.loads(line))\n",
    "    return dataset\n",
    "\n",
    "\n",
    "dataset_dev = load_jsonfile(dev_path)\n",
    "dataset_test = load_jsonfile(test_path)\n",
    "dataset_train = load_jsonfile(train_path)\n",
    "print \"Import Successful \"\n",
    "print \"There are totally\", len(dataset_dev),'documents in this dev dataset'\n",
    "print \"There are totally\", len(dataset_test),'documents in this test dataset'\n",
    "print \"There are totally\", len(dataset_train),'documents in this  train dataset'"
   ]
  },
  {
   "cell_type": "markdown",
   "metadata": {},
   "source": [
    "#### Semantic Enhancement - Re-Build BM25"
   ]
  },
  {
   "cell_type": "code",
   "execution_count": 136,
   "metadata": {
    "collapsed": false
   },
   "outputs": [],
   "source": [
    "class BM25_p_Model(object): \n",
    "    def __init__(self, document_collection, k1=1.5, b=0.75, k3=0.0, EPS=0.25, tokenizer=my_tokenizer): \n",
    "        self.tokenizer = tokenizer \n",
    "        self.document_collection_length = len(document_collection) \n",
    "        self.avg_doc_length = sum(map(lambda x: float(len(x)), document_collection)) / self.document_collection_length \n",
    "        self.document_collection = [self.tokenizer(doc) for doc in document_collection] \n",
    "        self.document_corpus = list(itertools.chain.from_iterable(self.document_collection))\n",
    "        self.corpus_freq = FreqDist(self.document_corpus)\n",
    "        self.tf = [] \n",
    "        self.df = defaultdict(int) \n",
    "        self.bm25_idf = defaultdict(float) \n",
    "        self.average_idf = -1 \n",
    "        self.k1 = k1 \n",
    "        self.k3 = k3 \n",
    "        self.EPSILON = EPS \n",
    "        self.b = b \n",
    "        self.inverted_index = defaultdict(list) \n",
    "        self.initialize() \n",
    "    def initialize(self):\n",
    "        for index, document in enumerate(self.document_collection): \n",
    "            doc_term_freq = FreqDist(document) \n",
    "            self.tf.append(doc_term_freq) \n",
    "            for word, freq in doc_term_freq.items(): \n",
    "                self.df[word] += 1 \n",
    "                self.inverted_index[word].append(index) \n",
    "        for word, freq in self.df.items(): \n",
    "            self.bm25_idf[word] = math.log(self.document_collection_length - freq + 0.5) - math.log(freq + 0.5) \n",
    "            \n",
    "            self.average_idf = sum(map(lambda k: float(self.bm25_idf[k]), self.bm25_idf.keys())) / len(self.bm25_idf.keys()) \n",
    "    \n",
    "    def predict(self, queryX, limit=1): \n",
    "        q_prediction = [] \n",
    "        for index,query in enumerate(queryX): \n",
    "            answers = self.bm25_get_most_relevant(query)[:limit] \n",
    "            if len(answers) == 0:\n",
    "                previous_answer = self.bm25_get_most_relevant(queryX[index-1])[:limit] \n",
    "                q_prediction.append([i[0] for i in previous_answer]) \n",
    "            else:\n",
    "                q_prediction.append([i[0] for i in answers]) \n",
    "        return q_prediction \n",
    "\n",
    "    def bm25_get_most_relevant(self, query): \n",
    "        query_tks = self.tokenizer(query) \n",
    "        scores = defaultdict(float)\n",
    "        new_query_tks = []\n",
    "        for i in query_tks:\n",
    "            if i not in self.inverted_index.keys():\n",
    "                new_query_tks.extend(lemma_words(i))\n",
    "            else:\n",
    "                new_query_tks.append(i)\n",
    "        new_query_tks = list(set(new_query_tks))\n",
    "        for q_token in new_query_tks: \n",
    "            for doc_index in self.inverted_index[q_token]: \n",
    "                idf = self.bm25_idf[q_token] if self.bm25_idf[q_token] >= 0 else self.EPSILON * self.average_idf \n",
    "                top = self.tf[doc_index][q_token] * (self.k1 + 1) \n",
    "                below = self.tf[doc_index][q_token] + self.k1 * (1 - self.b + self.b * self.document_collection_length / self.avg_doc_length) \n",
    "                frq_q_t = self.corpus_freq[q_token]\n",
    "                scores[doc_index] += idf * top / below *(self.k3 +1)*frq_q_t/(self.k3+frq_q_t)\n",
    "        prels = scores.items() \n",
    "        sorted_socres = sorted(prels, key=lambda (k, v): v, reverse=True) \n",
    "        return sorted_socres "
   ]
  },
  {
   "cell_type": "code",
   "execution_count": 139,
   "metadata": {
    "collapsed": true
   },
   "outputs": [],
   "source": [
    "def write_csv(csv_name,model_name,dataset,limit=1):\n",
    "    csv_file = open(csv_name, mode='w',)\n",
    "    fieldnames = ['document_ID', 'question_ID','question','prediction_ID','prediction_sentence']\n",
    "    writer = csv.DictWriter(csv_file, fieldnames=fieldnames, )\n",
    "    writer.writeheader()\n",
    "\n",
    "    ddi = 0\n",
    "    for document in dataset:\n",
    "        evaluate_row = []\n",
    "        questions = [i['question'] for i in document['qa']]\n",
    "        model = document[model_name]\n",
    "        predictions = model.predict(questions,limit)\n",
    "        quest_index = 0\n",
    "        for pred_index in predictions:\n",
    "            drow = dict()\n",
    "            drow['question_ID'] = quest_index\n",
    "            drow['prediction_ID'] = pred_index\n",
    "            evaluate_row.append(drow)\n",
    "            quest_index += 1\n",
    "        doc_sents = document['sentences']\n",
    "        for r in evaluate_row:\n",
    "            r['document_ID'] = ddi\n",
    "            r['question'] = questions[r['question_ID']].encode('utf-8')\n",
    "            if len(r['prediction_ID']) != 0:\n",
    "                r['prediction_sentence'] = doc_sents[r['prediction_ID'][0]].encode('utf-8')\n",
    "            else:\n",
    "                print 'error prediction',ddi,r['question_ID'],r['question']\n",
    "            writer.writerow(r)\n",
    "        ddi += 1"
   ]
  },
  {
   "cell_type": "code",
   "execution_count": 140,
   "metadata": {
    "collapsed": false
   },
   "outputs": [],
   "source": [
    "#Build models for test data set\n",
    "for document in dataset_test:\n",
    "    document_collections = document['sentences']\n",
    "    document['bm25_model'] = BM25_p_Model(document_collections)\n",
    "# write to a CSV file for test data predictions\n",
    "write_csv('data/bm25_test_P_predictions.csv','bm25_model',dataset_test,1)"
   ]
  },
  {
   "cell_type": "markdown",
   "metadata": {},
   "source": [
    "#### Word2Vec Query Classification"
   ]
  },
  {
   "cell_type": "code",
   "execution_count": 7,
   "metadata": {
    "collapsed": false
   },
   "outputs": [],
   "source": [
    "def load_csv(filename):\n",
    "    with open(filename) as csvfile:\n",
    "        readCSV = csv.DictReader(csvfile, delimiter=',')\n",
    "        query = []\n",
    "        query_type = []\n",
    "        for row in readCSV:\n",
    "            query.append(row['question'].decode('utf-8'))\n",
    "            query_type.append(row['question_type'].decode('utf-8'))\n",
    "    return query,query_type\n",
    "\n",
    "train_queryX,train_type = load_csv('train_question_tag.csv')\n",
    "dev_queryX,dev_type=load_csv('dev_question_tag.csv')"
   ]
  },
  {
   "cell_type": "code",
   "execution_count": 8,
   "metadata": {
    "collapsed": true
   },
   "outputs": [],
   "source": [
    "# Import various modules for string cleaning\n",
    "def query_tokenizer(doc, remove_stopwords=False ):\n",
    "    terms = set()\n",
    "    tokenizer = RegexpTokenizer(r'\\w+(?:[-./]\\w+)?')\n",
    "    for token in tokenizer.tokenize(doc):\n",
    "        if remove_stopwords:\n",
    "            if token not in stopwords: # 'in' and 'not in' operations are much faster over sets that lists\n",
    "                terms.add(stemmer.stem(token.lower()))\n",
    "        else:\n",
    "            terms.add(stemmer.stem(token.lower()))\n",
    "    return list(terms)"
   ]
  },
  {
   "cell_type": "code",
   "execution_count": 48,
   "metadata": {
    "collapsed": false
   },
   "outputs": [
    {
     "name": "stdout",
     "output_type": "stream",
     "text": [
      "Parsing sentences from training set\n",
      "Parsing sentences from test set\n",
      "Train sentences: 70159\n",
      "Test sentences: 8463\n"
     ]
    }
   ],
   "source": [
    "print \"Parsing sentences from training set\"\n",
    "sentences = []\n",
    "for query in train_queryX:\n",
    "    sentences.append(query_tokenizer(query, remove_stopwords=True))\n",
    "sentences_test = []\n",
    "print \"Parsing sentences from test set\"\n",
    "for review in dev_queryX:\n",
    "    sentences_test.append(query_tokenizer(query, remove_stopwords=True))\n",
    "    \n",
    "print'Train sentences:' ,len(sentences)\n",
    "print'Test sentences:' ,len(sentences_test)"
   ]
  },
  {
   "cell_type": "code",
   "execution_count": 141,
   "metadata": {
    "collapsed": false
   },
   "outputs": [
    {
     "name": "stdout",
     "output_type": "stream",
     "text": [
      "Training model...\n",
      "Finished!\n"
     ]
    }
   ],
   "source": [
    "# Import the built-in logging module and configure it so that Word2Vec \n",
    "# creates nice output messages\n",
    "import logging\n",
    "logging.basicConfig(format='%(asctime)s : %(levelname)s : %(message)s',\\\n",
    "    level=logging.INFO)\n",
    "\n",
    "# Set values for various parameters\n",
    "num_features = 150    # Word vector dimensionality                      \n",
    "min_word_count = 20   # Minimum word count                        \n",
    "num_workers = 4       # Number of threads to run in parallel\n",
    "context = 10          # Context window size                                                                                    \n",
    "downsampling = 1e-3   # Downsample setting for frequent words\n",
    "\n",
    "# Initialize and train the model (this will take some time)\n",
    "import gensim\n",
    "from gensim.models import word2vec\n",
    "print \"Training model...\"\n",
    "model = word2vec.Word2Vec(sentences, workers=num_workers, size=num_features, min_count = min_word_count, window = context, sample = downsampling)\n",
    "#model =word2vec.Word2Vec(sentences,size=100, min_count=5, workers=2, iter=50)\n",
    "\n",
    "# If you don't plan to train the model any further, calling \n",
    "# init_sims will make the model much more memory-efficient.\n",
    "model.init_sims(replace=True)\n",
    "\n",
    "# It can be helpful to create a meaningful model name and \n",
    "# save the model for later use. You can load it later using Word2Vec.load()\n",
    "model_name = \"300features_40minwords_10context\"\n",
    "model.save(model_name)\n",
    "print \"Finished!\""
   ]
  },
  {
   "cell_type": "code",
   "execution_count": 142,
   "metadata": {
    "collapsed": false
   },
   "outputs": [],
   "source": [
    "import numpy as np  # Make sure that numpy is imported\n",
    "\n",
    "def makeFeatureVec(words, model, num_features):\n",
    "    # Function to average all of the word vectors in a given\n",
    "    # paragraph\n",
    "    #\n",
    "    # Pre-initialize an empty numpy array (for speed)\n",
    "    featureVec = np.zeros((num_features,),dtype=\"float64\")\n",
    "    #\n",
    "    nwords = 0\n",
    "    # \n",
    "    # Index2word is a list that contains the names of the words in \n",
    "    # the model's vocabulary. Convert it to a set, for speed \n",
    "    index2word_set = set(model.wv.index2word)\n",
    "    #\n",
    "    # Loop over each word in the review and, if it is in the model's\n",
    "    # vocaublary, add its feature vector to the total\n",
    "    for word in words:\n",
    "        if word in index2word_set: \n",
    "            nwords = nwords + 1\n",
    "            featureVec = np.add(featureVec,model[word])\n",
    "    # \n",
    "    # Divide the result by the number of words to get the average\n",
    "    featureVec = np.divide(featureVec,nwords)\n",
    "    return featureVec\n",
    "\n",
    "\n",
    "def getAvgFeatureVecs(reviews, model, num_features):\n",
    "    # Given a set of reviews (each one a list of words), calculate \n",
    "    # the average feature vector for each one and return a 2D numpy array \n",
    "    # \n",
    "    # Initialize a counter\n",
    "    counter = 0\n",
    "    # \n",
    "    # Preallocate a 2D numpy array, for speed\n",
    "    reviewFeatureVecs = np.zeros((len(reviews),num_features),dtype=\"float64\")\n",
    "    # \n",
    "    # Loop through the reviews\n",
    "    for review in reviews:\n",
    "        # Print a status message every 1000th review\n",
    "        if counter%1000 == 0:\n",
    "            print \"Review %d of %d\" % (counter, len(reviews))\n",
    "        # \n",
    "        # Call the function (defined above) that makes average feature vectors\n",
    "        reviewFeatureVecs[counter] = makeFeatureVec(review, model, num_features)\n",
    "            \n",
    "        # Increment the counter\n",
    "        counter = counter + 1\n",
    "    return reviewFeatureVecs"
   ]
  },
  {
   "cell_type": "code",
   "execution_count": 143,
   "metadata": {
    "collapsed": false
   },
   "outputs": [
    {
     "name": "stdout",
     "output_type": "stream",
     "text": [
      "Review 0 of 70159\n",
      "Review 1000 of 70159\n"
     ]
    },
    {
     "name": "stderr",
     "output_type": "stream",
     "text": [
      "/Users/qilong/Library/Enthought/Canopy_64bit/User/lib/python2.7/site-packages/ipykernel/__main__.py:24: RuntimeWarning: invalid value encountered in divide\n"
     ]
    },
    {
     "name": "stdout",
     "output_type": "stream",
     "text": [
      "Review 2000 of 70159\n",
      "Review 3000 of 70159\n",
      "Review 4000 of 70159\n",
      "Review 5000 of 70159\n",
      "Review 6000 of 70159\n",
      "Review 7000 of 70159\n",
      "Review 8000 of 70159\n",
      "Review 9000 of 70159\n",
      "Review 10000 of 70159\n",
      "Review 11000 of 70159\n",
      "Review 12000 of 70159\n",
      "Review 13000 of 70159\n",
      "Review 14000 of 70159\n",
      "Review 15000 of 70159\n",
      "Review 16000 of 70159\n",
      "Review 17000 of 70159\n",
      "Review 18000 of 70159\n",
      "Review 19000 of 70159\n",
      "Review 20000 of 70159\n",
      "Review 21000 of 70159\n",
      "Review 22000 of 70159\n",
      "Review 23000 of 70159\n",
      "Review 24000 of 70159\n",
      "Review 25000 of 70159\n",
      "Review 26000 of 70159\n",
      "Review 27000 of 70159\n",
      "Review 28000 of 70159\n",
      "Review 29000 of 70159\n",
      "Review 30000 of 70159\n",
      "Review 31000 of 70159\n",
      "Review 32000 of 70159\n",
      "Review 33000 of 70159\n",
      "Review 34000 of 70159\n",
      "Review 35000 of 70159\n",
      "Review 36000 of 70159\n",
      "Review 37000 of 70159\n",
      "Review 38000 of 70159\n",
      "Review 39000 of 70159\n",
      "Review 40000 of 70159\n",
      "Review 41000 of 70159\n",
      "Review 42000 of 70159\n",
      "Review 43000 of 70159\n",
      "Review 44000 of 70159\n",
      "Review 45000 of 70159\n",
      "Review 46000 of 70159\n",
      "Review 47000 of 70159\n",
      "Review 48000 of 70159\n",
      "Review 49000 of 70159\n",
      "Review 50000 of 70159\n",
      "Review 51000 of 70159\n",
      "Review 52000 of 70159\n",
      "Review 53000 of 70159\n",
      "Review 54000 of 70159\n",
      "Review 55000 of 70159\n",
      "Review 56000 of 70159\n",
      "Review 57000 of 70159\n",
      "Review 58000 of 70159\n",
      "Review 59000 of 70159\n",
      "Review 60000 of 70159\n",
      "Review 61000 of 70159\n",
      "Review 62000 of 70159\n",
      "Review 63000 of 70159\n",
      "Review 64000 of 70159\n",
      "Review 65000 of 70159\n",
      "Review 66000 of 70159\n",
      "Review 67000 of 70159\n",
      "Review 68000 of 70159\n",
      "Review 69000 of 70159\n",
      "Review 70000 of 70159\n",
      "Creating average feature vecs for test reviews\n",
      "Review 0 of 8463\n",
      "Review 1000 of 8463\n",
      "Review 2000 of 8463\n",
      "Review 3000 of 8463\n",
      "Review 4000 of 8463\n",
      "Review 5000 of 8463\n",
      "Review 6000 of 8463\n",
      "Review 7000 of 8463\n",
      "Review 8000 of 8463\n"
     ]
    }
   ],
   "source": [
    "# ****************************************************************\n",
    "# Calculate average feature vectors for training and testing sets,\n",
    "# using the functions we defined above. Notice that we now use stop word\n",
    "# removal.\n",
    "\n",
    "clean_train_reviews = []\n",
    "for query in train_queryX:\n",
    "     clean_train_reviews.append(query_tokenizer(query,True))\n",
    "\n",
    "trainDataVecs = getAvgFeatureVecs(clean_train_reviews, model, num_features )\n",
    "\n",
    "print \"Creating average feature vecs for test reviews\"\n",
    "clean_test_reviews = []\n",
    "for query in dev_queryX:\n",
    "    clean_test_reviews.append(query_tokenizer(query,True))\n",
    "\n",
    "testDataVecs = getAvgFeatureVecs(clean_test_reviews, model, num_features )"
   ]
  },
  {
   "cell_type": "markdown",
   "metadata": {},
   "source": [
    "#### Replace the Nan values in matrix"
   ]
  },
  {
   "cell_type": "code",
   "execution_count": 144,
   "metadata": {
    "collapsed": false
   },
   "outputs": [],
   "source": [
    "from sklearn.preprocessing import Imputer\n",
    "imp = Imputer(missing_values='NaN', strategy='mean', axis=0)\n",
    "imp.fit(trainDataVecs)\n",
    "Imputer(axis=0, copy=True, missing_values='NaN', strategy='mean', verbose=0)\n",
    "fix_train =imp.transform(trainDataVecs) "
   ]
  },
  {
   "cell_type": "code",
   "execution_count": 145,
   "metadata": {
    "collapsed": true
   },
   "outputs": [],
   "source": [
    "imp = Imputer(missing_values='NaN', strategy='mean', axis=0)\n",
    "imp.fit(testDataVecs)\n",
    "Imputer(axis=0, copy=True, missing_values='NaN', strategy='mean', verbose=0)\n",
    "fix_test =imp.transform(testDataVecs) "
   ]
  },
  {
   "cell_type": "code",
   "execution_count": 146,
   "metadata": {
    "collapsed": false
   },
   "outputs": [
    {
     "name": "stdout",
     "output_type": "stream",
     "text": [
      "Fitting a random forest to labeled training data...\n",
      "Preditcing\n",
      "accuracy: 0.649178778211\n"
     ]
    }
   ],
   "source": [
    "from sklearn.metrics import accuracy_score\n",
    "#Fit a random forest to the training data, using 100 trees\n",
    "from sklearn.ensemble import RandomForestClassifier\n",
    "forest = RandomForestClassifier( n_estimators = 130 )\n",
    "\n",
    "print \"Fitting a random forest to labeled training data...\"\n",
    "forest = forest.fit(fix_train, train_type )\n",
    "print 'Preditcing'\n",
    "#Test & extract results \n",
    "result = forest.predict(fix_test)\n",
    "print 'accuracy:',accuracy_score(result,dev_type)"
   ]
  },
  {
   "cell_type": "code",
   "execution_count": 150,
   "metadata": {
    "collapsed": false
   },
   "outputs": [
    {
     "name": "stdout",
     "output_type": "stream",
     "text": [
      "accuracy: 0.64610658159\n"
     ]
    }
   ],
   "source": [
    "from sklearn.neural_network import MLPClassifier\n",
    "\n",
    "clf = MLPClassifier(solver='lbfgs', alpha=1e-5,hidden_layer_sizes=(15,), random_state=1)\n",
    "\n",
    "clf.fit(fix_train, train_type)                         \n",
    "MLPClassifier(activation='relu', alpha=1e-05, batch_size='auto',\n",
    "       beta_1=0.9, beta_2=0.999, early_stopping=False,\n",
    "       epsilon=1e-08, hidden_layer_sizes=(15,), learning_rate='constant',\n",
    "       learning_rate_init=0.001, max_iter=200, momentum=0.9,\n",
    "       nesterovs_momentum=True, power_t=0.5, random_state=1, shuffle=True,\n",
    "       solver='lbfgs', tol=0.0001, validation_fraction=0.1, verbose=False,\n",
    "       warm_start=False)\n",
    "pred_NN = clf.predict(fix_test)\n",
    "print 'accuracy:',accuracy_score(pred_NN,dev_type)"
   ]
  },
  {
   "cell_type": "code",
   "execution_count": 148,
   "metadata": {
    "collapsed": false
   },
   "outputs": [
    {
     "name": "stdout",
     "output_type": "stream",
     "text": [
      "GridSearchCV(cv=None, error_score='raise',\n",
      "       estimator=RandomForestClassifier(bootstrap=True, class_weight=None, criterion='gini',\n",
      "            max_depth=None, max_features='auto', max_leaf_nodes=None,\n",
      "            min_impurity_split=1e-07, min_samples_leaf=1,\n",
      "            min_samples_split=2, min_weight_fraction_leaf=0.0,\n",
      "            n_estimators=130, n_jobs=1, oob_score=False, random_state=None,\n",
      "            verbose=0, warm_start=False),\n",
      "       fit_params={}, iid=True, n_jobs=1,\n",
      "       param_grid={'n_estimators': array([ 80,  90, 100, 110, 115, 120, 123, 125, 130, 140, 150])},\n",
      "       pre_dispatch='2*n_jobs', refit=True, return_train_score=True,\n",
      "       scoring=None, verbose=0)\n",
      "\n",
      "Grid Search best score is : 0.639844026941\n",
      "Grid Search Value  gs_n_estimators : 150\n"
     ]
    }
   ],
   "source": [
    "# Grid Search for Algorithm Tuning\n",
    "from sklearn.model_selection import GridSearchCV\n",
    "\n",
    "# prepare a range of alpha values to test\n",
    "estimators = np.array([80,90,100,110,115,120,123,125,130,140,150])\n",
    "\n",
    "grid = GridSearchCV(estimator=forest, param_grid=dict(n_estimators=estimators))\n",
    "grid.fit(fix_test, dev_type)\n",
    "print(grid)\n",
    "gs_n_estimators = grid.best_estimator_.n_estimators\n",
    "# summarize the results of the grid search\n",
    "print \"\\nGrid Search best score is :\",(grid.best_score_)\n",
    "print \"Grid Search Value  gs_n_estimators :\",gs_n_estimators"
   ]
  },
  {
   "cell_type": "code",
   "execution_count": null,
   "metadata": {
    "collapsed": true
   },
   "outputs": [],
   "source": []
  }
 ],
 "metadata": {
  "anaconda-cloud": {},
  "kernelspec": {
   "display_name": "Python 2",
   "language": "python",
   "name": "python2"
  },
  "language_info": {
   "codemirror_mode": {
    "name": "ipython",
    "version": 2
   },
   "file_extension": ".py",
   "mimetype": "text/x-python",
   "name": "python",
   "nbconvert_exporter": "python",
   "pygments_lexer": "ipython2",
   "version": "2.7.11"
  }
 },
 "nbformat": 4,
 "nbformat_minor": 0
}
