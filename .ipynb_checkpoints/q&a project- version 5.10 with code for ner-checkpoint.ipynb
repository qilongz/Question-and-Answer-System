{
 "cells": [
  {
   "cell_type": "markdown",
   "metadata": {
    "collapsed": true
   },
   "source": [
    "# Basic Q&A System"
   ]
  },
  {
   "cell_type": "markdown",
   "metadata": {},
   "source": [
    "### Sentence Retrival"
   ]
  },
  {
   "cell_type": "code",
   "execution_count": 5,
   "metadata": {
    "collapsed": false
   },
   "outputs": [],
   "source": [
    "import math,numpy,json,re,nltk\n",
    "import time,re,os.path,sys\n",
    "from sklearn import metrics\n",
    "from sklearn.feature_extraction.text import TfidfVectorizer, CountVectorizer\n",
    "from collections import defaultdict\n",
    "from numpy import multiply\n",
    "from math import sqrt\n",
    "from nltk.tokenize import word_tokenize\n",
    "from nltk.tag import StanfordNERTagger\n",
    "from nltk.tokenize import word_tokenize\n",
    "import os.path as path\n",
    "from collections import OrderedDict\n",
    "from nltk.stem.wordnet import WordNetLemmatizer as WNL\n",
    "from sklearn.feature_extraction import DictVectorizer\n",
    "from nltk import FreqDist, DictionaryProbDist\n",
    "from operator import add\n",
    "import csv, ast\n",
    "from nltk.tag.stanford import StanfordPOSTagger"
   ]
  },
  {
   "cell_type": "markdown",
   "metadata": {},
   "source": [
    "#### Load data from json file"
   ]
  },
  {
   "cell_type": "code",
   "execution_count": 31,
   "metadata": {
    "collapsed": false
   },
   "outputs": [
    {
     "name": "stdout",
     "output_type": "stream",
     "text": [
      "Import Successful \n",
      "There are totally 40 documents in this dataset\n"
     ]
    }
   ],
   "source": [
    "t0 = time.time()\n",
    "filename_ls = ['QA_dev.json']\n",
    "dataset = []\n",
    "train_path = path.abspath('data/QA_dev.json')\n",
    "\n",
    "dataset = []\n",
    "with open(train_path) as f:\n",
    "    for line in f:\n",
    "        dataset+=(json.loads(line))\n",
    "print \"Import Successful \"\n",
    "print \"There are totally\", len(dataset),'documents in this dataset'"
   ]
  },
  {
   "cell_type": "markdown",
   "metadata": {},
   "source": [
    "#### Build modle and evaluate the result"
   ]
  },
  {
   "cell_type": "code",
   "execution_count": 32,
   "metadata": {
    "collapsed": false
   },
   "outputs": [],
   "source": [
    "stopwords = set(nltk.corpus.stopwords.words('english')) # wrap in a set() (see below)\n",
    "stemmer = nltk.stem.PorterStemmer() \n",
    "\n",
    "def my_tokenizer(doc):\n",
    "    terms = set()\n",
    "    for token in nltk.word_tokenize(doc):\n",
    "        if token not in stopwords: # 'in' and 'not in' operations are much faster over sets that lists\n",
    "            terms.add(stemmer.stem(token.lower()))\n",
    "    return list(terms)\n",
    "\n",
    "\n",
    "class MostRelevantSentenceModel(object):\n",
    "    def __init__(self, vectorizer, collection_matrix):\n",
    "        self.vectorizer = vectorizer\n",
    "        self.collection_matrix = collection_matrix\n",
    "        feature_array = vectorizer.get_feature_names()\n",
    "        self.features = dict()\n",
    "        for index in range(len(feature_array)):\n",
    "            term = feature_array[index]\n",
    "            self.features[term] = index\n",
    "\n",
    "    def predict(self, queies):\n",
    "        predictions = [self.inverted_index_score(i) for i in  queies]\n",
    "        return predictions\n",
    "\n",
    "    def inverted_index_score(self, query_sent):\n",
    "        \"\"\"\n",
    "        now we implement inverted index to handle query\n",
    "        \n",
    "        :param query_sent: \n",
    "        :return: \n",
    "        \n",
    "        \"\"\"\n",
    "        query_words = my_tokenizer(query_sent)\n",
    "        score = defaultdict(float)\n",
    "\n",
    "        for w in query_words:\n",
    "            try:\n",
    "                col_i = self.features[w]\n",
    "                inverted_ix = self.collection_matrix[:, col_i]\n",
    "                for di in range(inverted_ix.shape[0]):\n",
    "                    score[di] += inverted_ix[di, 0]\n",
    "            except KeyError:\n",
    "                pass\n",
    "\n",
    "        index_score = sorted(score.items(), key=lambda (k, v): v, reverse=True)\n",
    "\n",
    "        if index_score:\n",
    "            top10_doc_index = [i[0] for i in index_score[:10]]\n",
    "            return top10_doc_index\n",
    "        else:\n",
    "            print 'error occured' ,query_sent\n",
    "            return -1, 0"
   ]
  },
  {
   "cell_type": "code",
   "execution_count": 33,
   "metadata": {
    "collapsed": false
   },
   "outputs": [],
   "source": [
    "def build_model_and_evaluate(model, query ,report=False):\n",
    "    evaluate_row = []\n",
    "    pred = model.predict(query)\n",
    "    quest_index = 0\n",
    "    for pred_index in pred:\n",
    "        drow = dict()\n",
    "        if report:\n",
    "            print pred_index\n",
    "        drow['question_ID'] = quest_index\n",
    "        drow['prediction_ID'] = pred_index\n",
    "        evaluate_row.append(drow)\n",
    "        quest_index += 1\n",
    "    return evaluate_row\n",
    "\n",
    "\n",
    "# #build model for each document collaction\n",
    "\n",
    "for document in dataset:\n",
    "    tfidf_vectorizer = TfidfVectorizer(max_df=0.95, min_df=1, use_idf=True,norm='l1',stop_words=None, tokenizer=my_tokenizer)\n",
    "    document_collections_sents = document['sentences']\n",
    "    tfidf_matrix = tfidf_vectorizer.fit_transform(document_collections_sents)\n",
    "    document['model'] = MostRelevantSentenceModel(vectorizer=tfidf_vectorizer,collection_matrix=tfidf_matrix)"
   ]
  },
  {
   "cell_type": "markdown",
   "metadata": {},
   "source": [
    "#### Output with predtion and actual values"
   ]
  },
  {
   "cell_type": "code",
   "execution_count": 34,
   "metadata": {
    "collapsed": false,
    "scrolled": true
   },
   "outputs": [
    {
     "name": "stdout",
     "output_type": "stream",
     "text": [
      "error occured Who was the runner up?\n",
      "error occured Who was the runner up?\n",
      "error occured Where did it open?\n",
      "error occured What did the actof of milno do?\n",
      "error occured What is an Etsudiantinas? \n",
      "error occured What is crosspicking?\n",
      "Running time count: 198.904000044\n"
     ]
    }
   ],
   "source": [
    "import csv\n",
    "csv_file = open('data/evaluatin_dev_results.csv', mode='w',)\n",
    "fieldnames = ['document_ID', 'question_ID','question','prediction_ID','prediction_sentence']\n",
    "writer = csv.DictWriter(csv_file, fieldnames=fieldnames, )\n",
    "writer.writeheader()\n",
    "\n",
    "ddi = 0\n",
    "for document in dataset:\n",
    "    questions = [i['question'] for i in document['qa']]\n",
    "    model = document['model']\n",
    "    result_row = build_model_and_evaluate(model, questions)\n",
    "    doc_sents = document['sentences']\n",
    "    for r in result_row:\n",
    "        r['document_ID'] = ddi\n",
    "        r['question'] = questions[r['question_ID']].encode('utf-8')\n",
    "        r['prediction_sentence'] = doc_sents[r['prediction_ID'][0]].encode('utf-8')\n",
    "        writer.writerow(r)\n",
    "    ddi += 1\n",
    "print 'Running time count:', time.time() - t0"
   ]
  },
  {
   "cell_type": "code",
   "execution_count": null,
   "metadata": {
    "collapsed": false
   },
   "outputs": [],
   "source": []
  },
  {
   "cell_type": "markdown",
   "metadata": {},
   "source": [
    "### Entity Extraction"
   ]
  },
  {
   "cell_type": "code",
   "execution_count": 2,
   "metadata": {
    "collapsed": false
   },
   "outputs": [],
   "source": [
    "def json_load_byteified(file_handle):\n",
    "    return _byteify(json.load(file_handle, object_hook=_byteify),ignore_dicts=True)\n",
    "\n",
    "def _byteify(data, ignore_dicts = False):\n",
    "    # if this is a unicode string, return its string representation\n",
    "    if isinstance(data, unicode):\n",
    "        return data.encode('utf-8')\n",
    "    # if this is a list of values, return list of byteified values\n",
    "    if isinstance(data, list):\n",
    "        return [ _byteify(item, ignore_dicts=True) for item in data ]\n",
    "    # if this is a dictionary, return dictionary of byteified keys and values\n",
    "    # but only if we haven't already byteified it\n",
    "    if isinstance(data, dict) and not ignore_dicts:\n",
    "        return {\n",
    "            _byteify(key, ignore_dicts=True): _byteify(value, ignore_dicts=True)\n",
    "            for key, value in data.iteritems()\n",
    "        }\n",
    "    # if it's anything else, return it in its original form\n",
    "    return data"
   ]
  },
  {
   "cell_type": "code",
   "execution_count": 8,
   "metadata": {
    "collapsed": true
   },
   "outputs": [],
   "source": [
    "import os\n",
    "java_path = \"C:\\\\Program Files\\\\Java\\\\jre1.8.0_131\\\\bin\" # replace this\n",
    "os.environ['JAVAHOME'] = java_path"
   ]
  },
  {
   "cell_type": "code",
   "execution_count": 6,
   "metadata": {
    "collapsed": false
   },
   "outputs": [
    {
     "name": "stdout",
     "output_type": "stream",
     "text": [
      "import success\n"
     ]
    }
   ],
   "source": [
    "with open(\"data/QA_dev.json\") as json_file:\n",
    "    json_data = json_load_byteified(json_file)\n",
    "print 'import success'"
   ]
  },
  {
   "cell_type": "code",
   "execution_count": 9,
   "metadata": {
    "collapsed": false
   },
   "outputs": [
    {
     "name": "stdout",
     "output_type": "stream",
     "text": [
      "100%\n",
      "Time spending: 297.607000113\n"
     ]
    }
   ],
   "source": [
    "cwd = os.getcwd()\n",
    "st = StanfordNERTagger(cwd+'\\data\\english.all.3class.distsim.crf.ser.gz',cwd+'\\data\\stanford-ner.jar')\n",
    "\n",
    "if not os.path.isfile(\"data/NERdev.json\"):    \n",
    "    start = time.time()\n",
    "    progressT = len(json_data)    \n",
    "    listOfDocument=[]\n",
    "    i=0\n",
    "    for jd in json_data:\n",
    "        aList=[]\n",
    "        aList.append(st.tag_sents([word_tokenize(re.sub(',', '',re.sub('[^a-zA-Z0-9-_*., ]', ' ',x['question']))) for x in jd['qa']]))\n",
    "        #remove the below file if running on test set\n",
    "        aList.append(st.tag_sents([word_tokenize(re.sub(',', '',re.sub('[^a-zA-Z0-9-_*., ]', ' ',x['answer']))) for x in jd['qa']]))\n",
    "        aList.append(st.tag_sents([word_tokenize(re.sub(',', '',re.sub('[^a-zA-Z0-9-_*., ]', ' ',x))) for x in jd['sentences']]))\n",
    "        listOfDocument.append(aList)\n",
    "        i+=1\n",
    "        sys.stdout.write('\\r')\n",
    "        sys.stdout.write(\"%d%%\" % (i*100/progressT))\n",
    "        sys.stdout.flush()    \n",
    "    for document in range(0,len(listOfDocument)):\n",
    "        #change [2] to [1] if test set\n",
    "        for sentence in range(0,len(listOfDocument[document][2])):\n",
    "            for word in range(0,len(listOfDocument[document][2][sentence])):   \n",
    "                listOfDocument[document][2][sentence][word]= (listOfDocument[document][2][sentence][word][0]\n",
    "                                                              ,listOfDocument[document][2][sentence][word][1] if not listOfDocument[document][2][sentence][word][0].isdigit() else u'NUMBER')\n",
    "    with open('data/NERdev.json', 'w') as outfile:\n",
    "        json.dump(listOfDocument, outfile)\n",
    "    end = time.time()\n",
    "    print '\\nTime spending:',end - start    \n",
    "else:    \n",
    "    print 'there is a file'\n",
    "with open(\"data/NERdev.json\") as json_file:\n",
    "        json_dataNER = json_load_byteified(json_file)"
   ]
  },
  {
   "cell_type": "code",
   "execution_count": 28,
   "metadata": {
    "collapsed": false
   },
   "outputs": [
    {
     "name": "stdout",
     "output_type": "stream",
     "text": [
      "import success\n"
     ]
    }
   ],
   "source": [
    "with open(\"data/QA_train.json\") as json_file:\n",
    "    json_data = json_load_byteified(json_file)\n",
    "print 'import success'"
   ]
  },
  {
   "cell_type": "code",
   "execution_count": 28,
   "metadata": {
    "collapsed": false
   },
   "outputs": [
    {
     "ename": "TypeError",
     "evalue": "list indices must be integers, not str",
     "output_type": "error",
     "traceback": [
      "\u001b[1;31m---------------------------------------------------------------------------\u001b[0m",
      "\u001b[1;31mTypeError\u001b[0m                                 Traceback (most recent call last)",
      "\u001b[1;32m<ipython-input-28-b7cf1ea406f5>\u001b[0m in \u001b[0;36m<module>\u001b[1;34m()\u001b[0m\n\u001b[0;32m      9\u001b[0m     \u001b[1;32mfor\u001b[0m \u001b[0mjd\u001b[0m \u001b[1;32min\u001b[0m \u001b[0mjson_data\u001b[0m\u001b[1;33m:\u001b[0m\u001b[1;33m\u001b[0m\u001b[0m\n\u001b[0;32m     10\u001b[0m         \u001b[0maList\u001b[0m\u001b[1;33m=\u001b[0m\u001b[1;33m[\u001b[0m\u001b[1;33m]\u001b[0m\u001b[1;33m\u001b[0m\u001b[0m\n\u001b[1;32m---> 11\u001b[1;33m         \u001b[0maList\u001b[0m\u001b[1;33m.\u001b[0m\u001b[0mappend\u001b[0m\u001b[1;33m(\u001b[0m\u001b[0mstPOS\u001b[0m\u001b[1;33m.\u001b[0m\u001b[0mtag_sents\u001b[0m\u001b[1;33m(\u001b[0m\u001b[1;33m[\u001b[0m\u001b[0mword_tokenize\u001b[0m\u001b[1;33m(\u001b[0m\u001b[0mre\u001b[0m\u001b[1;33m.\u001b[0m\u001b[0msub\u001b[0m\u001b[1;33m(\u001b[0m\u001b[1;34m','\u001b[0m\u001b[1;33m,\u001b[0m \u001b[1;34m''\u001b[0m\u001b[1;33m,\u001b[0m\u001b[0mre\u001b[0m\u001b[1;33m.\u001b[0m\u001b[0msub\u001b[0m\u001b[1;33m(\u001b[0m\u001b[1;34m'[^a-zA-Z0-9-_*., ]'\u001b[0m\u001b[1;33m,\u001b[0m \u001b[1;34m' '\u001b[0m\u001b[1;33m,\u001b[0m\u001b[0mx\u001b[0m\u001b[1;33m[\u001b[0m\u001b[1;34m'question'\u001b[0m\u001b[1;33m]\u001b[0m\u001b[1;33m)\u001b[0m\u001b[1;33m)\u001b[0m\u001b[1;33m)\u001b[0m \u001b[1;32mfor\u001b[0m \u001b[0mx\u001b[0m \u001b[1;32min\u001b[0m \u001b[0mjd\u001b[0m\u001b[1;33m[\u001b[0m\u001b[1;34m'qa'\u001b[0m\u001b[1;33m]\u001b[0m\u001b[1;33m]\u001b[0m\u001b[1;33m)\u001b[0m\u001b[1;33m)\u001b[0m\u001b[1;33m\u001b[0m\u001b[0m\n\u001b[0m\u001b[0;32m     12\u001b[0m         \u001b[1;31m#remove the below file if running on test set\u001b[0m\u001b[1;33m\u001b[0m\u001b[1;33m\u001b[0m\u001b[0m\n\u001b[0;32m     13\u001b[0m         \u001b[0maList\u001b[0m\u001b[1;33m.\u001b[0m\u001b[0mappend\u001b[0m\u001b[1;33m(\u001b[0m\u001b[1;33m[\u001b[0m\u001b[0mstPOS\u001b[0m\u001b[1;33m.\u001b[0m\u001b[0mtag_sents\u001b[0m\u001b[1;33m(\u001b[0m\u001b[1;33m[\u001b[0m\u001b[0mword_tokenize\u001b[0m\u001b[1;33m(\u001b[0m\u001b[0mre\u001b[0m\u001b[1;33m.\u001b[0m\u001b[0msub\u001b[0m\u001b[1;33m(\u001b[0m\u001b[1;34m','\u001b[0m\u001b[1;33m,\u001b[0m \u001b[1;34m''\u001b[0m\u001b[1;33m,\u001b[0m\u001b[0mre\u001b[0m\u001b[1;33m.\u001b[0m\u001b[0msub\u001b[0m\u001b[1;33m(\u001b[0m\u001b[1;34m'[^a-zA-Z0-9-_*., ]'\u001b[0m\u001b[1;33m,\u001b[0m \u001b[1;34m' '\u001b[0m\u001b[1;33m,\u001b[0m\u001b[0mx\u001b[0m\u001b[1;33m[\u001b[0m\u001b[1;34m'answer'\u001b[0m\u001b[1;33m]\u001b[0m\u001b[1;33m)\u001b[0m\u001b[1;33m)\u001b[0m\u001b[1;33m)\u001b[0m \u001b[1;32mfor\u001b[0m \u001b[0mx\u001b[0m \u001b[1;32min\u001b[0m \u001b[0mjd\u001b[0m\u001b[1;33m[\u001b[0m\u001b[1;34m'qa'\u001b[0m\u001b[1;33m]\u001b[0m\u001b[1;33m]\u001b[0m\u001b[1;33m)\u001b[0m\u001b[1;33m]\u001b[0m\u001b[1;33m)\u001b[0m\u001b[1;33m\u001b[0m\u001b[0m\n",
      "\u001b[1;31mTypeError\u001b[0m: list indices must be integers, not str"
     ]
    }
   ],
   "source": [
    "cwd = os.getcwd()\n",
    "stPOS = StanfordPOSTagger(cwd+'\\\\data\\\\wsj-0-18-left3words-distsim.tagger',cwd+'\\data\\stanford-postagger.jar')\n",
    "\n",
    "if not os.path.isfile(\"data/POSdev.json\"):    \n",
    "    start = time.time()\n",
    "    progressT = len(json_data)    \n",
    "    listOfDocument=[]\n",
    "    i=0\n",
    "    for jd in json_data:\n",
    "        aList=[]        \n",
    "        aList.append(stPOS.tag_sents([word_tokenize(re.sub(',', '',re.sub('[^a-zA-Z0-9-_*., ]', ' ',x['question']))) for x in jd['qa']]))\n",
    "        #remove the below file if running on test set\n",
    "        aList.append(stPOS.tag_sents([word_tokenize(re.sub(',', '',re.sub('[^a-zA-Z0-9-_*., ]', ' ',x['answer']))) for x in jd['qa']]))\n",
    "        aList.append(stPOS.tag_sents([word_tokenize(re.sub(',', '',re.sub('[^a-zA-Z0-9-_*., ]', ' ',x))) for x in jd['sentences']]))\n",
    "        listOfDocument.append(aList)\n",
    "        i+=1\n",
    "        sys.stdout.write('\\r')\n",
    "        sys.stdout.write(\"%d%%\" % (i*100/progressT))\n",
    "        sys.stdout.flush()    \n",
    "    with open('data/POSdev.json', 'w') as outfile:\n",
    "        json.dump(listOfDocument, outfile)\n",
    "    end = time.time()\n",
    "    print '\\nTime spending:',end - start    \n",
    "else:    \n",
    "    print 'there is a file'\n",
    "with open(\"data/POSdev.json\") as json_file:\n",
    "        json_dataNER = json_load_byteified(json_file)"
   ]
  },
  {
   "cell_type": "markdown",
   "metadata": {
    "collapsed": false
   },
   "source": [
    "# Determine answer"
   ]
  },
  {
   "cell_type": "code",
   "execution_count": 13,
   "metadata": {
    "collapsed": false
   },
   "outputs": [],
   "source": [
    "def detectQuestion(argument):\n",
    "    argument = tokenizeUnicode(argument.lower())\n",
    "    if 'what' in argument and len(set(argument) & set(['year','time','rankings']))!=0:\n",
    "        return 'NUMBER'\n",
    "    elif 'who' in argument or 'whom' in argument or 'whose' in argument or \\\n",
    "            ('what' in argument and len(set(argument) & set(['name']))!=0):\n",
    "        return 'PERSON'\n",
    "    elif 'when' in argument:\n",
    "        return 'NUMBER'\n",
    "    elif 'where' in argument or 'what' in argument and len(set(argument) & set(['part']))!=0:\n",
    "        return 'LOCATION'\n",
    "    elif 'how' in argument and len(set(argument) & set(['many','much','long','far']))!=0:\n",
    "        return 'NUMBER'        \n",
    "    elif 'why' in argument:\n",
    "        return 'O'\n",
    "    elif 'which' in argument and len(set(argument) & set(['year',\"years\"]))!=0:\n",
    "        return 'NUMBER'\n",
    "    else:\n",
    "        return 'O'"
   ]
  },
  {
   "cell_type": "code",
   "execution_count": 14,
   "metadata": {
    "collapsed": false
   },
   "outputs": [],
   "source": [
    "def tokenizeUnicode(aUnicode):\n",
    "    return word_tokenize(re.sub(',', '',re.sub('[^a-zA-Z0-9-_*., ]', ' ',aUnicode)))"
   ]
  },
  {
   "cell_type": "code",
   "execution_count": 17,
   "metadata": {
    "collapsed": false
   },
   "outputs": [
    {
     "name": "stdout",
     "output_type": "stream",
     "text": [
      "import success\n"
     ]
    }
   ],
   "source": [
    "with open(\"data/NERdev.json\") as json_file:\n",
    "    json_data = json_load_byteified(json_file)\n",
    "with open(\"data/POSdev.json\") as json_file:\n",
    "    json_dataPOS = json_load_byteified(json_file)\n",
    "with open(\"data/QA_dev.json\") as json_file:\n",
    "    json_dataOrg = json_load_byteified(json_file)\n",
    "    \n",
    "print 'import success'"
   ]
  },
  {
   "cell_type": "code",
   "execution_count": 16,
   "metadata": {
    "collapsed": false
   },
   "outputs": [
    {
     "name": "stdout",
     "output_type": "stream",
     "text": [
      "success 8455\n"
     ]
    }
   ],
   "source": [
    "csv_file = 'evaluatin_test_results.csv'\n",
    "i=0\n",
    "answerSecondFilter = []\n",
    "dictDoc={}\n",
    "question={}\n",
    "with open(csv_file) as csvfile:\n",
    "    readCSV = csv.DictReader(csvfile, delimiter=',')\n",
    "    for row in readCSV:        \n",
    "        document_i = int(row['document_ID'])\n",
    "        question_i = int(row['question_ID'])\n",
    "        filteredlistOfNERSentence = []\n",
    "        question_type = detectQuestion(row['question'])\n",
    "        question[document_i,question_i] = row['question']\n",
    "        for x in ast.literal_eval(row['prediction_ID']):\n",
    "            listOfNERSentence = json_data[document_i][1][x]                      \n",
    "            if question_type in [k[1] for k in listOfNERSentence]:\n",
    "                filteredlistOfNERSentence.append(x)\n",
    "                i+=1\n",
    "        dictDoc[document_i,question_i,question_type]=filteredlistOfNERSentence        \n",
    "print 'success',len(dictDoc)"
   ]
  },
  {
   "cell_type": "code",
   "execution_count": 74,
   "metadata": {
    "collapsed": false
   },
   "outputs": [
    {
     "name": "stdout",
     "output_type": "stream",
     "text": [
      "success with answer\n"
     ]
    }
   ],
   "source": [
    "dictDoc2 = {}\n",
    "dictDoc3 = {}\n",
    "for i,j,qtype in dictDoc:    \n",
    "    questionNNP = set([x[0] for x in json_dataPOS[i][0][j] if x[1] == 'NNP'])\n",
    "    maxCommon = 0\n",
    "    maxSentence = ''\n",
    "    for x in dictDoc[i,j,qtype]:\n",
    "        answerNNP = [y[0] for y in json_dataPOS[i][1][x] if y[1] == 'NNP']\n",
    "        compareIntersection = len(set(questionNNP)&set(answerNNP))\n",
    "        if compareIntersection > maxCommon:\n",
    "            maxCommon = compareIntersection\n",
    "            maxSentence = json_dataPOS[i][1][x], json_data[i][1][x]\n",
    "    if len(dictDoc[i,j,qtype]) != 0:\n",
    "        if len(maxSentence) == 0:\n",
    "            maxSentence = json_dataPOS[i][1][dictDoc[i,j,qtype][0]], json_data[i][1][dictDoc[i,j,qtype][0]]\n",
    "        if qtype != 'O':\n",
    "            dictDoc2[i,j]= ' '.join([k[0] for k in maxSentence[1] if k[1]==qtype])\n",
    "            dictDoc3[i,j] = maxSentence[1]\n",
    "        else:\n",
    "            dictDoc2[i,j]= ' '.join([k[0] for k in maxSentence[0] if k[1]=='NNP'])\n",
    "            dictDoc3[i,j] = maxSentence[0]\n",
    "print 'success with answer'"
   ]
  },
  {
   "cell_type": "code",
   "execution_count": 101,
   "metadata": {
    "collapsed": false
   },
   "outputs": [
    {
     "data": {
      "text/plain": [
       "'Nicholas Russia Napoleon III'"
      ]
     },
     "execution_count": 101,
     "metadata": {},
     "output_type": "execute_result"
    }
   ],
   "source": [
    "dictDoc2[0,5]"
   ]
  },
  {
   "cell_type": "code",
   "execution_count": 116,
   "metadata": {
    "collapsed": false
   },
   "outputs": [
    {
     "name": "stdout",
     "output_type": "stream",
     "text": [
      "success 8974\n"
     ]
    }
   ],
   "source": [
    "import csv\n",
    "csv_file = open('data/test_results.csv', mode='wb',)\n",
    "fieldnames = ['id', 'answer',]\n",
    "writer = csv.DictWriter(csv_file, fieldnames=fieldnames,delimiter=',')\n",
    "writer.writeheader()\n",
    "k = 0\n",
    "totalDoc=len(json_data)\n",
    "for i in range(0, totalDoc):\n",
    "    for j in range(0,len(json_data[i][0])):\n",
    "        k+=1\n",
    "        dictToCSV={}\n",
    "        dictToCSV['id'] = k\n",
    "        dictToCSV['answer'] = dictDoc2.get((i,j),'NOT SURE')\n",
    "        writer.writerow(dictToCSV)    \n",
    "print 'success',k    "
   ]
  },
  {
   "cell_type": "code",
   "execution_count": 18,
   "metadata": {
    "collapsed": false
   },
   "outputs": [
    {
     "name": "stdout",
     "output_type": "stream",
     "text": [
      "success 8455\n",
      "success with answer\n"
     ]
    }
   ],
   "source": [
    "csv_file = 'data/evaluatin_dev_results.csv'\n",
    "i=0\n",
    "answerSecondFilter = []\n",
    "dictDoc={}\n",
    "question={}\n",
    "with open(csv_file) as csvfile:\n",
    "    readCSV = csv.DictReader(csvfile, delimiter=',')\n",
    "    for row in readCSV:        \n",
    "        document_i = int(row['document_ID'])\n",
    "        question_i = int(row['question_ID'])\n",
    "        filteredlistOfNERSentence = []\n",
    "        question_type = detectQuestion(row['question'])\n",
    "        question[document_i,question_i] = row['question']\n",
    "        for x in ast.literal_eval(row['prediction_ID']):\n",
    "            listOfNERSentence = json_data[document_i][2][x]                      \n",
    "            if question_type in [k[1] for k in listOfNERSentence]:\n",
    "                filteredlistOfNERSentence.append(x)\n",
    "                i+=1\n",
    "        dictDoc[document_i,question_i,question_type]=filteredlistOfNERSentence        \n",
    "print 'success',len(dictDoc)\n",
    "dictDoc2 = {}\n",
    "dictDoc3 = {}\n",
    "for i,j,qtype in dictDoc:    \n",
    "    questionNNP = set([x[0] for x in json_dataPOS[i][0][j] if x[1] == 'NNP'])\n",
    "    maxCommon = 0\n",
    "    maxSentence = ''\n",
    "    for x in dictDoc[i,j,qtype]:\n",
    "        answerNNP = [y[0] for y in json_dataPOS[i][2][x] if y[1] == 'NNP']\n",
    "        compareIntersection = len(set(questionNNP)&set(answerNNP))\n",
    "        if compareIntersection > maxCommon:\n",
    "            maxCommon = compareIntersection\n",
    "            maxSentence = json_dataPOS[i][2][x], json_data[i][2][x]\n",
    "    if len(dictDoc[i,j,qtype]) != 0:\n",
    "        if len(maxSentence) == 0:\n",
    "            maxSentence = json_dataPOS[i][2][dictDoc[i,j,qtype][0]], json_data[i][2][dictDoc[i,j,qtype][0]]\n",
    "        if qtype != 'O':\n",
    "            dictDoc2[i,j]= ' '.join([k[0] for k in maxSentence[1] if k[1]==qtype])\n",
    "            dictDoc3[i,j] = maxSentence[1]\n",
    "        else:\n",
    "            dictDoc2[i,j]= ' '.join([k[0] for k in maxSentence[0] if k[1]=='NNP'])\n",
    "            dictDoc3[i,j] = maxSentence[0]\n",
    "print 'success with answer'"
   ]
  },
  {
   "cell_type": "code",
   "execution_count": 25,
   "metadata": {
    "collapsed": false
   },
   "outputs": [
    {
     "data": {
      "text/plain": [
       "[[['active', 'JJ'], ['near-infrared', 'JJ'], ['illumination', 'NN']],\n",
       " [['Infrared', 'JJ'], ['astronomy', 'NN']],\n",
       " [['red', 'JJ']],\n",
       " [['Infrared', 'JJ'], ['thermal-imaging', 'NN'], ['cameras', 'NNS']],\n",
       " [['scientific', 'JJ']],\n",
       " [['700', 'CD'], ['nm', 'NN']],\n",
       " [['near-IR', 'NN']],\n",
       " [['780', 'CD'], ['nm', 'NN']],\n",
       " [['1050', 'CD'], ['nm', 'NN']],\n",
       " [['Leaves', 'VBZ']],\n",
       " [['emissivity', 'NN']],\n",
       " [['hotter', 'JJR']],\n",
       " [['infrared', 'JJ'], ['cameras', 'NNS']],\n",
       " [['Infrared', 'JJ'], ['vibrational', 'JJ'], ['spectroscopy', 'NN']],\n",
       " [['it', 'PRP'],\n",
       "  ['will', 'MD'],\n",
       "  ['absorb', 'VB'],\n",
       "  ['a', 'DT'],\n",
       "  ['photon', 'NN'],\n",
       "  ['that', 'WDT'],\n",
       "  ['has', 'VBZ'],\n",
       "  ['the', 'DT'],\n",
       "  ['same', 'JJ'],\n",
       "  ['frequency', 'NN']],\n",
       " [['the', 'DT'],\n",
       "  ['frequencies', 'NNS'],\n",
       "  ['of', 'IN'],\n",
       "  ['infrared', 'JJ'],\n",
       "  ['light', 'NN']],\n",
       " [['the', 'DT'], ['mid-infrared', 'JJ']],\n",
       " [['infrared', 'JJ'], ['filters', 'NNS']],\n",
       " [['Digital', 'NNP'], ['cameras', 'NNS']],\n",
       " [['T-ray', 'NN'], ['imaging', 'NN']],\n",
       " [['far-infrared', 'JJ']],\n",
       " [['terahertz', 'NN'], ['time-domain', 'NN'], ['spectroscopy', 'NN']],\n",
       " [['Infrared', 'JJ'], ['reflectography', 'NN']],\n",
       " [['carbon', 'NN'], ['black', 'JJ']],\n",
       " [['pentimenti', 'NNS']],\n",
       " [['William', 'NNP'], ['Herschel', 'NNP']],\n",
       " [['the', 'DT'],\n",
       "  ['Royal', 'NNP'],\n",
       "  ['Society', 'NNP'],\n",
       "  ['of', 'IN'],\n",
       "  ['London', 'NNP']],\n",
       " [['1800', 'CD']],\n",
       " [['a', 'DT'], ['prism', 'NN']],\n",
       " [['Calorific', 'JJ'], ['Rays', 'NNS']],\n",
       " [['heat', 'NN'], ['radiation', 'NN']],\n",
       " [['49', 'CD']],\n",
       " [['8', 'CD'], ['to', 'TO'], ['25', 'CD']],\n",
       " [['visible', 'JJ']],\n",
       " [['Infrared', 'JJ'], ['tracking', 'NN']],\n",
       " [['Missiles', 'NNS']],\n",
       " [['heat-seekers', 'NNS']],\n",
       " [['vehicle', 'NN'], ['engines', 'NNS']],\n",
       " [['infrared', 'VBD']],\n",
       " [['Cumulonimbus', 'NN']],\n",
       " [['white', 'JJ']],\n",
       " [['Stratocumulus', 'NN']],\n",
       " [['grey', 'NN']],\n",
       " [['1.58', 'CD'], ['1.64', 'CD']],\n",
       " [['water', 'NN'],\n",
       "  ['vapor', 'NN'],\n",
       "  ['in', 'IN'],\n",
       "  ['the', 'DT'],\n",
       "  ['atmosphere', 'NN']],\n",
       " [['at', 'IN'], ['a', 'DT'], ['high', 'JJ'], ['altitude', 'NN']],\n",
       " [['balloon', 'NN']],\n",
       " [['Space', 'NNP'], ['telescopes', 'NNS']],\n",
       " [['Near-infrared', 'JJ']],\n",
       " [['water', 'NN'], ['absorption', 'NN']],\n",
       " [['1050', 'CD']],\n",
       " [['950', 'CD']],\n",
       " [['Heat', 'NNP']],\n",
       " [['thermal', 'JJ'], ['radiation', 'NN']],\n",
       " [['the', 'DT'], ['solar', 'JJ'], ['corona', 'NN']],\n",
       " [['infrared', 'VBD']],\n",
       " [['0.9', 'CD'], ['14', 'CD']],\n",
       " [['900', 'CD'], ['14000', 'CD']],\n",
       " [['the', 'DT'],\n",
       "  ['black', 'JJ'],\n",
       "  ['body', 'NN'],\n",
       "  ['radiation', 'NN'],\n",
       "  ['law', 'NN']],\n",
       " [['increases', 'NNS']],\n",
       " [['Thermographic', 'NNP']],\n",
       " [['imbedded', 'JJ'], ['stars', 'NNS']],\n",
       " [['protostars', 'NNS']],\n",
       " [['Stars', 'NNP']],\n",
       " [['night', 'NN'], ['vision', 'NN']],\n",
       " [['electrons', 'NNS']],\n",
       " [['electrical', 'JJ']],\n",
       " [['the', 'DT'], ['Infrared', 'JJ'], ['Data', 'NNP'], ['Association', 'NNP']],\n",
       " [['light-emitting', 'JJ'], ['diodes', 'NNS']],\n",
       " [['modulated', 'VBN']],\n",
       " [['silicon', 'NN'], ['photodiode', 'NN']],\n",
       " [['IR', 'NNP'],\n",
       "  ['does', 'VBZ'],\n",
       "  ['not', 'RB'],\n",
       "  ['penetrate', 'VB'],\n",
       "  ['walls', 'NNS']],\n",
       " [['n', 'IN']],\n",
       " [['k', 'NN']],\n",
       " [['Forouhi-Bloomer', 'JJR'], ['dispersion', 'NN']],\n",
       " [['sidewall', 'NN'], ['angle', 'NN']],\n",
       " [['light', 'NN']],\n",
       " [['Infrared', 'JJ'], ['cleaning', 'NN']],\n",
       " [['green', 'JJ']],\n",
       " [['scaling', 'VBG']],\n",
       " [['infrared', 'VBD']],\n",
       " [['clouds', 'NNS']],\n",
       " [['infrared', 'VBD']],\n",
       " [['cloud', 'NN'], ['droplets', 'NNS']],\n",
       " [['greenhouse', 'NN']]]"
      ]
     },
     "execution_count": 25,
     "metadata": {},
     "output_type": "execute_result"
    }
   ],
   "source": [
    "json_dataPOS[0][1][0]"
   ]
  },
  {
   "cell_type": "code",
   "execution_count": 22,
   "metadata": {
    "collapsed": false
   },
   "outputs": [
    {
     "ename": "IndexError",
     "evalue": "list index out of range",
     "output_type": "error",
     "traceback": [
      "\u001b[1;31m---------------------------------------------------------------------------\u001b[0m",
      "\u001b[1;31mIndexError\u001b[0m                                Traceback (most recent call last)",
      "\u001b[1;32m<ipython-input-22-0e0c4644f0e3>\u001b[0m in \u001b[0;36m<module>\u001b[1;34m()\u001b[0m\n\u001b[0;32m     13\u001b[0m         \u001b[0mdictToCSV\u001b[0m\u001b[1;33m[\u001b[0m\u001b[1;34m'question'\u001b[0m\u001b[1;33m]\u001b[0m \u001b[1;33m=\u001b[0m \u001b[0mquestion\u001b[0m\u001b[1;33m[\u001b[0m\u001b[0mi\u001b[0m\u001b[1;33m,\u001b[0m\u001b[0mj\u001b[0m\u001b[1;33m]\u001b[0m\u001b[1;33m\u001b[0m\u001b[0m\n\u001b[0;32m     14\u001b[0m         \u001b[0mdictToCSV\u001b[0m\u001b[1;33m[\u001b[0m\u001b[1;34m'answer'\u001b[0m\u001b[1;33m]\u001b[0m \u001b[1;33m=\u001b[0m \u001b[0mdictDoc2\u001b[0m\u001b[1;33m.\u001b[0m\u001b[0mget\u001b[0m\u001b[1;33m(\u001b[0m\u001b[1;33m(\u001b[0m\u001b[0mi\u001b[0m\u001b[1;33m,\u001b[0m\u001b[0mj\u001b[0m\u001b[1;33m)\u001b[0m\u001b[1;33m,\u001b[0m\u001b[1;34m'NOT SURE'\u001b[0m\u001b[1;33m)\u001b[0m\u001b[1;33m\u001b[0m\u001b[0m\n\u001b[1;32m---> 15\u001b[1;33m         \u001b[0mdictToCSV\u001b[0m\u001b[1;33m[\u001b[0m\u001b[1;34m'actual'\u001b[0m\u001b[1;33m]\u001b[0m \u001b[1;33m=\u001b[0m \u001b[0mstr\u001b[0m\u001b[1;33m(\u001b[0m\u001b[0mjson_dataPOS\u001b[0m\u001b[1;33m[\u001b[0m\u001b[0mi\u001b[0m\u001b[1;33m]\u001b[0m\u001b[1;33m[\u001b[0m\u001b[1;36m1\u001b[0m\u001b[1;33m]\u001b[0m\u001b[1;33m[\u001b[0m\u001b[0mj\u001b[0m\u001b[1;33m]\u001b[0m\u001b[1;33m)\u001b[0m\u001b[1;33m+\u001b[0m\u001b[1;34m' '\u001b[0m\u001b[1;33m+\u001b[0m\u001b[0mstr\u001b[0m\u001b[1;33m(\u001b[0m\u001b[0mjson_data\u001b[0m\u001b[1;33m[\u001b[0m\u001b[0mi\u001b[0m\u001b[1;33m]\u001b[0m\u001b[1;33m[\u001b[0m\u001b[1;36m1\u001b[0m\u001b[1;33m]\u001b[0m\u001b[1;33m[\u001b[0m\u001b[0mj\u001b[0m\u001b[1;33m]\u001b[0m\u001b[1;33m)\u001b[0m\u001b[1;33m\u001b[0m\u001b[0m\n\u001b[0m\u001b[0;32m     16\u001b[0m         \u001b[0mdictToCSV\u001b[0m\u001b[1;33m[\u001b[0m\u001b[1;34m'sentence_answer'\u001b[0m\u001b[1;33m]\u001b[0m \u001b[1;33m=\u001b[0m \u001b[0mdictDoc3\u001b[0m\u001b[1;33m[\u001b[0m\u001b[0mi\u001b[0m\u001b[1;33m,\u001b[0m\u001b[0mj\u001b[0m\u001b[1;33m]\u001b[0m\u001b[1;33m\u001b[0m\u001b[0m\n\u001b[0;32m     17\u001b[0m         \u001b[0mdictToCSV\u001b[0m\u001b[1;33m[\u001b[0m\u001b[1;34m'sentence_actual'\u001b[0m\u001b[1;33m]\u001b[0m \u001b[1;33m=\u001b[0m \u001b[0mjson_dataOrg\u001b[0m\u001b[1;33m[\u001b[0m\u001b[0mi\u001b[0m\u001b[1;33m]\u001b[0m\u001b[1;33m[\u001b[0m\u001b[1;34m'sentences'\u001b[0m\u001b[1;33m]\u001b[0m\u001b[1;33m[\u001b[0m\u001b[0mjson_dataOrg\u001b[0m\u001b[1;33m[\u001b[0m\u001b[0mi\u001b[0m\u001b[1;33m]\u001b[0m\u001b[1;33m[\u001b[0m\u001b[1;34m'qa'\u001b[0m\u001b[1;33m]\u001b[0m\u001b[1;33m[\u001b[0m\u001b[0mj\u001b[0m\u001b[1;33m]\u001b[0m\u001b[1;33m[\u001b[0m\u001b[1;34m'answer_sentence'\u001b[0m\u001b[1;33m]\u001b[0m\u001b[1;33m]\u001b[0m\u001b[1;33m\u001b[0m\u001b[0m\n",
      "\u001b[1;31mIndexError\u001b[0m: list index out of range"
     ]
    }
   ],
   "source": [
    "import csv\n",
    "csv_file = open('data/dev_results.csv', mode='wb',)\n",
    "fieldnames = ['document_i','question_i','question', 'answer','actual','sentence_answer','sentence_actual']\n",
    "writer = csv.DictWriter(csv_file, fieldnames=fieldnames,delimiter=',')\n",
    "writer.writeheader()\n",
    "k = 0\n",
    "totalDoc=len(json_data)\n",
    "for i in range(0, totalDoc):\n",
    "    for j in range(0,len(json_data[i][0])):\n",
    "        dictToCSV={}\n",
    "        dictToCSV['document_i'] = i\n",
    "        dictToCSV['question_i'] = j\n",
    "        dictToCSV['question'] = question[i,j]\n",
    "        dictToCSV['answer'] = dictDoc2.get((i,j),'NOT SURE')\n",
    "        dictToCSV['actual'] = str(json_dataPOS[i][1][j])+' '+str(json_data[i][1][j])\n",
    "        dictToCSV['sentence_answer'] = dictDoc3[i,j]\n",
    "        dictToCSV['sentence_actual'] = json_dataOrg[i]['sentences'][json_dataOrg[i]['qa'][j]['answer_sentence']]\n",
    "        writer.writerow(dictToCSV)    \n",
    "print 'success',k  "
   ]
  },
  {
   "cell_type": "code",
   "execution_count": null,
   "metadata": {
    "collapsed": true
   },
   "outputs": [],
   "source": []
  }
 ],
 "metadata": {
  "anaconda-cloud": {},
  "kernelspec": {
   "display_name": "Python 2",
   "language": "python",
   "name": "python2"
  },
  "language_info": {
   "codemirror_mode": {
    "name": "ipython",
    "version": 2
   },
   "file_extension": ".py",
   "mimetype": "text/x-python",
   "name": "python",
   "nbconvert_exporter": "python",
   "pygments_lexer": "ipython2",
   "version": "2.7.11"
  }
 },
 "nbformat": 4,
 "nbformat_minor": 0
}
