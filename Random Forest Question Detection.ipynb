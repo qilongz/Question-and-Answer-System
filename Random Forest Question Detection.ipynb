{
 "cells": [
  {
   "cell_type": "code",
   "execution_count": 1,
   "metadata": {
    "collapsed": true
   },
   "outputs": [],
   "source": [
    "import pandas as pd\n",
    "input_file  ='train_question_tag.csv'\n",
    "input_filedev = 'dev_question_tag.csv'\n",
    "\n",
    "df = pd.read_csv(input_file, header = 0)\n",
    "numpy_array = df.as_matrix().astype('U')\n",
    "dfdev = pd.read_csv(input_filedev, header = 0)\n",
    "numpy_arraydev = dfdev.as_matrix().astype('U')"
   ]
  },
  {
   "cell_type": "code",
   "execution_count": 4,
   "metadata": {
    "collapsed": false
   },
   "outputs": [
    {
     "data": {
      "text/html": [
       "<div>\n",
       "<table border=\"1\" class=\"dataframe\">\n",
       "  <thead>\n",
       "    <tr style=\"text-align: right;\">\n",
       "      <th></th>\n",
       "      <th>question_type</th>\n",
       "      <th>question</th>\n",
       "    </tr>\n",
       "  </thead>\n",
       "  <tbody>\n",
       "    <tr>\n",
       "      <th>0</th>\n",
       "      <td>O</td>\n",
       "      <td>What does LP stand for when it comes to time c...</td>\n",
       "    </tr>\n",
       "    <tr>\n",
       "      <th>1</th>\n",
       "      <td>NUMBER</td>\n",
       "      <td>What are common diameters found in phonograph ...</td>\n",
       "    </tr>\n",
       "    <tr>\n",
       "      <th>2</th>\n",
       "      <td>O</td>\n",
       "      <td>What is a gramophone or 'vinyl' record?</td>\n",
       "    </tr>\n",
       "    <tr>\n",
       "      <th>3</th>\n",
       "      <td>O</td>\n",
       "      <td>Where does the groove on a vinyl record typica...</td>\n",
       "    </tr>\n",
       "    <tr>\n",
       "      <th>4</th>\n",
       "      <td>O</td>\n",
       "      <td>In what method is the rotational speed measure...</td>\n",
       "    </tr>\n",
       "  </tbody>\n",
       "</table>\n",
       "</div>"
      ],
      "text/plain": [
       "  question_type                                           question\n",
       "0             O  What does LP stand for when it comes to time c...\n",
       "1        NUMBER  What are common diameters found in phonograph ...\n",
       "2             O            What is a gramophone or 'vinyl' record?\n",
       "3             O  Where does the groove on a vinyl record typica...\n",
       "4             O  In what method is the rotational speed measure..."
      ]
     },
     "execution_count": 4,
     "metadata": {},
     "output_type": "execute_result"
    }
   ],
   "source": [
    "df[:5]"
   ]
  },
  {
   "cell_type": "code",
   "execution_count": 6,
   "metadata": {
    "collapsed": true
   },
   "outputs": [],
   "source": [
    "from sklearn.preprocessing import StandardScaler\n",
    "from sklearn.neural_network import MLPClassifier\n",
    "from sklearn.feature_extraction.text import CountVectorizer\n",
    "from sklearn.feature_extraction.text import TfidfTransformer\n",
    "from sklearn.metrics import accuracy_score\n",
    "count_vect = CountVectorizer()\n",
    "tfidf_transformer = TfidfTransformer()\n",
    "X = tfidf_transformer.fit_transform(count_vect.fit_transform(numpy_array[:,1]))\n",
    "Y = numpy_array[:,0]\n",
    "Xdev=tfidf_transformer.transform(count_vect.transform(numpy_arraydev[:,1]))\n",
    "Ydev=numpy_arraydev[:,0]"
   ]
  },
  {
   "cell_type": "code",
   "execution_count": 9,
   "metadata": {
    "collapsed": false
   },
   "outputs": [],
   "source": [
    "from sklearn.ensemble import RandomForestClassifier\n",
    "clfR = RandomForestClassifier()"
   ]
  },
  {
   "cell_type": "code",
   "execution_count": 18,
   "metadata": {
    "collapsed": false
   },
   "outputs": [
    {
     "name": "stdout",
     "output_type": "stream",
     "text": [
      "GridSearchCV(cv=None, error_score='raise',\n",
      "       estimator=RandomForestClassifier(bootstrap=True, class_weight=None, criterion='gini',\n",
      "            max_depth=None, max_features='auto', max_leaf_nodes=None,\n",
      "            min_impurity_split=1e-07, min_samples_leaf=1,\n",
      "            min_samples_split=2, min_weight_fraction_leaf=0.0,\n",
      "            n_estimators=130, n_jobs=1, oob_score=False, random_state=None,\n",
      "            verbose=0, warm_start=False),\n",
      "       fit_params={}, iid=True, n_jobs=1,\n",
      "       param_grid={'n_estimators': array([ 10,  50,  70, 100, 130])},\n",
      "       pre_dispatch='2*n_jobs', refit=True, return_train_score=True,\n",
      "       scoring=None, verbose=0)\n",
      "\n",
      "Grid Search best score is : 0.640080349758\n",
      "Grid Search Value  gs_n_estimators : 130\n"
     ]
    }
   ],
   "source": [
    "# Grid Search for Algorithm Tuning\n",
    "from sklearn.model_selection import GridSearchCV\n",
    "import numpy as np\n",
    "# prepare a range of alpha values to test\n",
    "estimators = np.array([10,50,70,100,130])\n",
    "\n",
    "grid = GridSearchCV(estimator=clfR, param_grid=dict(n_estimators=estimators))\n",
    "grid.fit(Xdev,Ydev)\n",
    "print(grid)\n",
    "gs_n_estimators = grid.best_estimator_.n_estimators\n",
    "# summarize the results of the grid search\n",
    "print \"\\nGrid Search best score is :\",(grid.best_score_)\n",
    "print \"Grid Search Value  gs_n_estimators :\",gs_n_estimators"
   ]
  },
  {
   "cell_type": "code",
   "execution_count": 16,
   "metadata": {
    "collapsed": false
   },
   "outputs": [],
   "source": [
    "from sklearn.metrics import accuracy_score, f1_score\n",
    "clfR = RandomForestClassifier(n_estimators = 130)\n",
    "clfR = clfR.fit(X,Y)\n",
    "predictionR = clfR.predict(Xdev)"
   ]
  },
  {
   "cell_type": "code",
   "execution_count": 17,
   "metadata": {
    "collapsed": false
   },
   "outputs": [
    {
     "name": "stdout",
     "output_type": "stream",
     "text": [
      "Accracy Score:  0.68899917287\n",
      "Macroaverged f-score:  0.480001366103\n"
     ]
    }
   ],
   "source": [
    "print \"Accracy Score: \" ,accuracy_score(predictionR,Ydev)\n",
    "print \"Macroaverged f-score: \",f1_score(predictionR,Ydev,average = \"macro\")"
   ]
  },
  {
   "cell_type": "code",
   "execution_count": null,
   "metadata": {
    "collapsed": true
   },
   "outputs": [],
   "source": []
  }
 ],
 "metadata": {
  "kernelspec": {
   "display_name": "Python 2",
   "language": "python",
   "name": "python2"
  },
  "language_info": {
   "codemirror_mode": {
    "name": "ipython",
    "version": 2
   },
   "file_extension": ".py",
   "mimetype": "text/x-python",
   "name": "python",
   "nbconvert_exporter": "python",
   "pygments_lexer": "ipython2",
   "version": "2.7.11"
  }
 },
 "nbformat": 4,
 "nbformat_minor": 0
}
