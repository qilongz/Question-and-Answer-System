{
 "cells": [
  {
   "cell_type": "code",
   "execution_count": 4,
   "metadata": {
    "collapsed": true
   },
   "outputs": [],
   "source": [
    "from nltk.tokenize import word_tokenize"
   ]
  },
  {
   "cell_type": "code",
   "execution_count": 5,
   "metadata": {
    "collapsed": true
   },
   "outputs": [],
   "source": [
    "def detectQuestion(argument):\n",
    "    argument = word_tokenize(argument.lower())       \n",
    "    if 'what' in argument:\n",
    "        return 'O'\n",
    "    elif 'who' in argument or 'whom' in argument:\n",
    "        return 'PERSON'\n",
    "    elif 'when' in argument:\n",
    "        return 'O'\n",
    "    elif 'where' in argument:\n",
    "        return 'LOCATION'\n",
    "    elif 'how' in argument:        \n",
    "        if argument[argument.index('how')+1] == 'many':\n",
    "            return 'NUMBER'\n",
    "        else:\n",
    "            return 'O'\n",
    "    elif 'why' in argument:\n",
    "        return 'O'\n",
    "    elif 'which' in argument:\n",
    "        return 'O'\n",
    "    else:\n",
    "        return 'O'"
   ]
  },
  {
   "cell_type": "code",
   "execution_count": 6,
   "metadata": {
    "collapsed": false
   },
   "outputs": [
    {
     "data": {
      "text/plain": [
       "'O'"
      ]
     },
     "execution_count": 6,
     "metadata": {},
     "output_type": "execute_result"
    }
   ],
   "source": [
    "detectQuestion(\"what is\")"
   ]
  },
  {
   "cell_type": "code",
   "execution_count": null,
   "metadata": {
    "collapsed": true
   },
   "outputs": [],
   "source": [
    ""
   ]
  }
 ],
 "metadata": {
  "kernelspec": {
   "display_name": "Python 2",
   "language": "python",
   "name": "python2"
  },
  "language_info": {
   "codemirror_mode": {
    "name": "ipython",
    "version": 2.0
   },
   "file_extension": ".py",
   "mimetype": "text/x-python",
   "name": "python",
   "nbconvert_exporter": "python",
   "pygments_lexer": "ipython2",
   "version": "2.7.11"
  }
 },
 "nbformat": 4,
 "nbformat_minor": 0
}