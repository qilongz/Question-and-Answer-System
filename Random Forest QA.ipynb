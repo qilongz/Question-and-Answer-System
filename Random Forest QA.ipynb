{
 "cells": [
  {
   "cell_type": "code",
   "execution_count": 17,
   "metadata": {
    "collapsed": true
   },
   "outputs": [],
   "source": [
    "from sklearn.ensemble import RandomForestClassifier\n",
    "from sklearn.feature_extraction.text import CountVectorizer\n",
    "from sklearn.feature_extraction.text import TfidfTransformer\n",
    "from sklearn.metrics import accuracy_score\n",
    "from sklearn import metrics\n",
    "def Random_forest_classfication(train_queryX,train_tagX,dev_queryX,dev_tagX,n_estimators = 130):\n",
    "    #convert input as matrix vector\n",
    "    train_query = np.array(train_queryX)\n",
    "    dev_query = np.array(train_tagX)\n",
    "    train_tag = np.array(dev_queryX)\n",
    "    dev_tag = np.array(dev_tagX)\n",
    "    \n",
    "    #transfer  matrix to TF-IDF features\n",
    "    count_vect = CountVectorizer()\n",
    "    tfidf_transformer = TfidfTransformer() \n",
    "    train_query = tfidf_transformer.fit_transform(count_vect.fit_transform(train_query))\n",
    "    train_tag = train_tag\n",
    "    dev_query=tfidf_transformer.transform(count_vect.transform(dev_query))\n",
    "    dev_tag=dev_tag\n",
    "    \n",
    "    #genreate randomorestClassifier\n",
    "    clf_forest = RandomForestClassifier()\n",
    "    clf_forest = RandomForestClassifier(n_estimators = n_estimators)\n",
    "    print 'Fitting Data'\n",
    "    clf_forest = clf_forest.fit(train_query,train_tag)\n",
    "    print \"Finshed fitting\"\n",
    "    predictions = clf_forest.predict(dev_query)\n",
    "    print 'Finished Predicting'\n",
    "    #produce predictoin on test data\n",
    "    accuracy = metrics.accuracy_score(dev_tag, predictions)\n",
    "    print('-' * 100)\n",
    "    print('classifier:')\n",
    "    print(clf_forest)\n",
    "\n",
    "    print(\"macro f1 score:   %0.3f\" % metrics.f1_score(dev_tag,predictions , average='macro'))\n",
    "    print\"accuracy:   %0.3f\" % accuracy, '\\n\\n'\n",
    "    print(metrics.classification_report(dev_tag, predictions))\n",
    "    print()\n",
    "    print(metrics.confusion_matrix)"
   ]
  }
 ],
 "metadata": {
  "kernelspec": {
   "display_name": "Python 2",
   "language": "python",
   "name": "python2"
  },
  "language_info": {
   "codemirror_mode": {
    "name": "ipython",
    "version": 2
   },
   "file_extension": ".py",
   "mimetype": "text/x-python",
   "name": "python",
   "nbconvert_exporter": "python",
   "pygments_lexer": "ipython2",
   "version": "2.7.11"
  }
 },
 "nbformat": 4,
 "nbformat_minor": 0
}
