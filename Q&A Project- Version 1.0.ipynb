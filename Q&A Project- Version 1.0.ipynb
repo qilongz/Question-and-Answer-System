{
 "cells": [
  {
   "cell_type": "markdown",
   "metadata": {
    "collapsed": true
   },
   "source": [
    "# Basic Q&A System"
   ]
  },
  {
   "cell_type": "markdown",
   "metadata": {},
   "source": [
    "### Sentence Retrival"
   ]
  },
  {
   "cell_type": "code",
   "execution_count": 79,
   "metadata": {
    "collapsed": false
   },
   "outputs": [],
   "source": [
    "import json\n",
    "from sklearn import metrics\n",
    "from sklearn.feature_extraction.text import TfidfVectorizer, CountVectorizer\n",
    "from collections import defaultdict\n",
    "from numpy import multiply\n",
    "from math import sqrt\n",
    "from nltk.tokenize import word_tokenize\n",
    "# from nltk.corpus import Wo\n",
    "import os.path as path\n",
    "from collections import OrderedDict\n",
    "import re\n",
    "import nltk\n",
    "from nltk.stem.wordnet import WordNetLemmatizer as WNL\n",
    "import time\n",
    "from sklearn.feature_extraction import DictVectorizer\n",
    "from nltk import FreqDist, DictionaryProbDist\n",
    "from operator import add\n",
    "import math\n",
    "import numpy"
   ]
  },
  {
   "cell_type": "code",
   "execution_count": 80,
   "metadata": {
    "collapsed": false
   },
   "outputs": [
    {
     "name": "stdout",
     "output_type": "stream",
     "text": [
      "There are totally 360 documents\n"
     ]
    }
   ],
   "source": [
    "t0 = time.time()\n",
    "filename_ls = ['QA_train.json']\n",
    "dataset = []\n",
    "train_path = path.abspath('data/QA_train.json')\n",
    "\n",
    "dataset = []\n",
    "with open(train_path) as f:\n",
    "    for line in f:\n",
    "        dataset+=(json.loads(line))\n",
    "print \"There are totally\",len(dataset),'documents'"
   ]
  },
  {
   "cell_type": "code",
   "execution_count": 81,
   "metadata": {
    "collapsed": false
   },
   "outputs": [],
   "source": [
    "stopwords = set(nltk.corpus.stopwords.words('english')) # wrap in a set() (see below)\n",
    "stemmer = nltk.stem.PorterStemmer() \n",
    "\n",
    "def my_tokenizer(doc):\n",
    "    terms = set()\n",
    "    for token in nltk.word_tokenize(doc):\n",
    "        if token not in stopwords: # 'in' and 'not in' operations are much faster over sets that lists\n",
    "            terms.add(stemmer.stem(token.lower()))\n",
    "    return list(terms)\n",
    "\n",
    "\n",
    "class MostRelevantSentenceModel(object):\n",
    "    def __init__(self, vectorizer, collection_matrix):\n",
    "        self.vectorizer = vectorizer\n",
    "        self.collection_matrix = collection_matrix\n",
    "        feature_array = vectorizer.get_feature_names()\n",
    "        self.features = dict()\n",
    "        for index in range(len(feature_array)):\n",
    "            term = feature_array[index]\n",
    "            self.features[term] = index\n",
    "\n",
    "    def predict(self, queies):\n",
    "        prediction = []\n",
    "        for query in queies:\n",
    "            prediction.append(self.inverted_index_score(query)[0])\n",
    "        return prediction\n",
    "\n",
    "    def inverted_index_score(self, query_sent):\n",
    "        \"\"\"\n",
    "        now we implement inverted index to handle query\n",
    "        \n",
    "        :param query_sent: \n",
    "        :return: \n",
    "        \n",
    "        \"\"\"\n",
    "        query_words = my_tokenizer(query_sent)\n",
    "        score = defaultdict(float)\n",
    "\n",
    "        for w in query_words:\n",
    "            try:\n",
    "                col_i = self.features[w]\n",
    "                inverted_ix = self.collection_matrix[:, col_i]\n",
    "                for di in range(inverted_ix.shape[0]):\n",
    "                    score[di] += inverted_ix[di, 0]\n",
    "            except KeyError:\n",
    "                pass\n",
    "\n",
    "        ss = sorted(score.items(), key=lambda (k, v): v, reverse=True)\n",
    "\n",
    "        if ss:\n",
    "            return ss[0]\n",
    "        else:\n",
    "            return -1, 0"
   ]
  },
  {
   "cell_type": "code",
   "execution_count": 82,
   "metadata": {
    "collapsed": false
   },
   "outputs": [],
   "source": [
    "def build_model_and_evaluate(model, question, document, report=False):\n",
    "    evaluate_row = []\n",
    "    pred = model.predict(question)\n",
    "    # score\n",
    "    ac_index = 0\n",
    "    quest_index = 0\n",
    "    for pred_index, actual_index in zip(pred,document):\n",
    "        drow = dict()\n",
    "        if report:\n",
    "            print pred_index, '\\t', actual_index\n",
    "        drow['question_i'] = quest_index\n",
    "        drow['prediction_i'] = pred_index\n",
    "        drow['actual_yi'] = actual_index\n",
    "        quest_index += 1\n",
    "        if pred_index == actual_index:\n",
    "            drow['correctness'] = 1\n",
    "            ac_index += 1\n",
    "        evaluate_row.append(drow)\n",
    "    accuracy = ac_index / len(document)\n",
    "    #print('accuracy: ', accuracy)\n",
    "    return evaluate_row, accuracy\n",
    "\n",
    "\n",
    "#build model for each document collaction\n",
    "\n",
    "for document in dataset:\n",
    "    tfidf_vectorizer = TfidfVectorizer(max_df=0.95, min_df=1, use_idf=True,stop_words=None, tokenizer=my_tokenizer)\n",
    "    document_collections_sents = document['sentences']\n",
    "    tfidf_matrix = tfidf_vectorizer.fit_transform(document_collections_sents)\n",
    "    document['model'] = MostRelevantSentenceModel(vectorizer=tfidf_vectorizer,collection_matrix=tfidf_matrix)\n",
    "pass"
   ]
  },
  {
   "cell_type": "markdown",
   "metadata": {},
   "source": [
    "#### Output with predtion and actual values"
   ]
  },
  {
   "cell_type": "code",
   "execution_count": null,
   "metadata": {
    "collapsed": false
   },
   "outputs": [],
   "source": [
    "import csv\n",
    "csv_file = open('evaluatin_result.csv', mode='w',)\n",
    "fieldnames = ['document_i', 'question_i', 'prediction_i',\n",
    "              'actual_yi', 'correctness', 'question', 'prediction_sentence', 'actual_y_sentence']\n",
    "writer = csv.DictWriter(csv_file, fieldnames=fieldnames, )\n",
    "writer.writeheader()\n",
    "\n",
    "ddi = 0\n",
    "for document in dataset:\n",
    "    qX = [i['question'] for i in document['qa']]\n",
    "    qy = [i['answer_sentence'] for i in document['qa']]\n",
    "    model = document['model']\n",
    "    table, acc = build_model_and_evaluate(model, qX, qy)\n",
    "    for t in table:\n",
    "        t['document_i'] = ddi\n",
    "        t['question'] = qX[t['question_i']].encode('utf-8')\n",
    "        t['prediction_sentence'] = document['sentences'][t['prediction_i']].encode('utf-8')\n",
    "        t['actual_y_sentence'] = document['sentences'][t['actual_yi']].encode('utf-8')\n",
    "        writer.writerow(t)\n",
    "\n",
    "    ddi += 1\n",
    "print 'EXEC:', time.time() - t0"
   ]
  }
 ],
 "metadata": {
  "kernelspec": {
   "display_name": "Python 2",
   "language": "python",
   "name": "python2"
  },
  "language_info": {
   "codemirror_mode": {
    "name": "ipython",
    "version": 2
   },
   "file_extension": ".py",
   "mimetype": "text/x-python",
   "name": "python",
   "nbconvert_exporter": "python",
   "pygments_lexer": "ipython2",
   "version": "2.7.13"
  }
 },
 "nbformat": 4,
 "nbformat_minor": 0
}
